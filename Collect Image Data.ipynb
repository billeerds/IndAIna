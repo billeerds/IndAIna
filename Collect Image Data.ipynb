{
 "cells": [
  {
   "cell_type": "code",
   "execution_count": 1,
   "metadata": {
    "collapsed": true
   },
   "outputs": [],
   "source": [
    "import numpy as np\n",
    "import requests\n",
    "import unicodecsv as csv\n",
    "import os\n",
    "import pandas as pd\n",
    "from operator import itemgetter\n",
    "import random\n",
    "from IPython.display import Image\n",
    "from IPython.core.display import HTML \n",
    "\n",
    "from IPython.display import display\n",
    "pd.options.display.max_columns = None"
   ]
  },
  {
   "cell_type": "code",
   "execution_count": 2,
   "metadata": {},
   "outputs": [
    {
     "name": "stdout",
     "output_type": "stream",
     "text": [
      "There are 492450 valid objects in this dataset\n"
     ]
    }
   ],
   "source": [
    "r = requests.get(\"https://collectionapi.metmuseum.org/public/collection/v1/objects\")\n",
    "r.encoding = r.apparent_encoding\n",
    "r_json = r.json()\n",
    "total = r_json['total']\n",
    "print(\"There are {} valid objects in this dataset\".format(total))\n",
    "objectIDs = r_json['objectIDs']"
   ]
  },
  {
   "cell_type": "code",
   "execution_count": 3,
   "metadata": {},
   "outputs": [
    {
     "name": "stdout",
     "output_type": "stream",
     "text": [
      "The column headers are the following: [u'locus', u'artistEndDate', u'geographyType', u'objectID', u'locale', u'constituents', u'period', u'dynasty', u'county', u'culture', u'medium', u'portfolio', u'city', u'dimensions', u'title', u'artistDisplayName', u'objectDate', u'primaryImage', u'artistSuffix', u'excavation', u'state', u'department', u'artistNationality', u'classification', u'isHighlight', u'objectName', u'tags', u'objectURL', u'objectBeginDate', u'reign', u'linkResource', u'artistPrefix', u'isPublicDomain', u'artistBeginDate', u'objectEndDate', u'accessionNumber', u'artistDisplayBio', u'rightsAndReproduction', u'artistRole', u'country', u'region', u'creditLine', u'repository', u'additionalImages', u'subregion', u'artistAlphaSort', u'primaryImageSmall', u'river', u'metadataDate']\n"
     ]
    }
   ],
   "source": [
    "# get the column headers from the first object ID\n",
    "prefix = \"https://collectionapi.metmuseum.org/public/collection/v1/objects/\"\n",
    "url = prefix + str(objectIDs[0])\n",
    "r = requests.get(url)\n",
    "col_headers = r.json().keys()\n",
    "\n",
    "print(\"The column headers are the following: {}\".format(col_headers))"
   ]
  },
  {
   "cell_type": "code",
   "execution_count": 4,
   "metadata": {
    "scrolled": true
   },
   "outputs": [
    {
     "data": {
      "text/plain": [
       "{u'accessionNumber': u'50.61.8',\n",
       " u'additionalImages': [u'https://images.metmuseum.org/CRDImages/as/original/50_61_8_Tp.jpg'],\n",
       " u'artistAlphaSort': u'',\n",
       " u'artistBeginDate': u'',\n",
       " u'artistDisplayBio': u'',\n",
       " u'artistDisplayName': u'',\n",
       " u'artistEndDate': u'',\n",
       " u'artistNationality': u'',\n",
       " u'artistPrefix': u'',\n",
       " u'artistRole': u'',\n",
       " u'artistSuffix': u'',\n",
       " u'city': u'',\n",
       " u'classification': u'Ceramics',\n",
       " u'constituents': None,\n",
       " u'country': u'',\n",
       " u'county': u'',\n",
       " u'creditLine': u'Harris Brisbane Dick Fund, 1950',\n",
       " u'culture': u'China',\n",
       " u'department': u'Asian Art',\n",
       " u'dimensions': u'H. 7 5/16 in. (18.6 cm); Diam. (at top)  5 7/8 in. (14.9 cm)',\n",
       " u'dynasty': u'',\n",
       " u'excavation': u'',\n",
       " u'geographyType': u'',\n",
       " u'isHighlight': False,\n",
       " u'isPublicDomain': True,\n",
       " u'linkResource': u'',\n",
       " u'locale': u'',\n",
       " u'locus': u'',\n",
       " u'medium': u'Pottery',\n",
       " u'metadataDate': u'2019-03-10T18:56:26.507Z',\n",
       " u'objectBeginDate': -10000,\n",
       " u'objectDate': u'',\n",
       " u'objectEndDate': -2100,\n",
       " u'objectID': 52532,\n",
       " u'objectName': u'Beaker',\n",
       " u'objectURL': u'https://www.metmuseum.org/art/collection/search/52532',\n",
       " u'period': u'Neolithic period',\n",
       " u'portfolio': u'',\n",
       " u'primaryImage': u'https://images.metmuseum.org/CRDImages/as/original/147119.jpg',\n",
       " u'primaryImageSmall': u'https://images.metmuseum.org/CRDImages/as/web-large/147119.jpg',\n",
       " u'region': u'',\n",
       " u'reign': u'',\n",
       " u'repository': u'Metropolitan Museum of Art, New York, NY',\n",
       " u'rightsAndReproduction': u'',\n",
       " u'river': u'',\n",
       " u'state': u'',\n",
       " u'subregion': u'',\n",
       " u'tags': [u'Beakers'],\n",
       " u'title': u'Beaker (Hu)'}"
      ]
     },
     "execution_count": 4,
     "metadata": {},
     "output_type": "execute_result"
    }
   ],
   "source": [
    "ID = '52532'\n",
    "url = prefix + str(ID)\n",
    "r = requests.get(url)\n",
    "#r.json().values()[(col_headers.index(\"isPublicDomain\") == True) & (col_headers.index(\"primaryImage\") != '') & (col_headers.index(\"department\") != 'European Paintings')]\n",
    "#list(itemgetter('isPublicDomain','department')(r.json())) == [True, 'Drawings and Prints']\n",
    "#list(itemgetter('isPublicDomain','department','primaryImage')(r.json()))\n",
    "r.json()"
   ]
  },
  {
   "cell_type": "code",
   "execution_count": 5,
   "metadata": {
    "collapsed": true
   },
   "outputs": [],
   "source": [
    "#Found item ids from the available csv in GitHub\n",
    "#isPublicDomain = True\n",
    "#Specifically looked Departments = Arts of Africa, Oceania, and the Americas,\n",
    "#Egyptian Art, Islamic Art, Medieval Art\n",
    "#Medium = pottery or ceramic\n",
    "objectIDs = open(\"../Image Collection/data/ObjectIds.txt\", \"r\")\n",
    "objectIDs = objectIDs.read().splitlines()"
   ]
  },
  {
   "cell_type": "code",
   "execution_count": 193,
   "metadata": {},
   "outputs": [
    {
     "data": {
      "text/plain": [
       "'conditions_list = []\\nfor i in objectIDs:\\n    url = prefix + str(i)\\n    r = requests.get(url)\\n    conditions_list.append(i)\\n    print(i)'"
      ]
     },
     "execution_count": 193,
     "metadata": {},
     "output_type": "execute_result"
    }
   ],
   "source": [
    "'''conditions_list = []\n",
    "for i in objectIDs:\n",
    "    url = prefix + str(i)\n",
    "    r = requests.get(url)\n",
    "    conditions_list.append(i)\n",
    "    print(i)'''"
   ]
  },
  {
   "cell_type": "code",
   "execution_count": 7,
   "metadata": {
    "collapsed": true,
    "scrolled": true
   },
   "outputs": [],
   "source": [
    "# iterate through the object ids and write the the file\n",
    "#May take 30 minutes\n",
    "\n",
    "# create the csv file and write the first row\n",
    "filename = '../Image Collection/Data/metdata.csv'\n",
    "# remove if it already exists\n",
    "try:\n",
    "    os.remove(filename)\n",
    "except OSError:\n",
    "    pass\n",
    "\n",
    "with open(filename, 'w') as csv_file:\n",
    "    csv_writer = csv.writer(csv_file)\n",
    "    csv_writer.writerow(col_headers)\n",
    "    \n",
    "    for index, ID in enumerate(objectIDs):\n",
    "        url = prefix + str(ID)\n",
    "        r = requests.get(url)\n",
    "        image_flag = r.json().values()[col_headers.index(\"primaryImage\")]\n",
    "        if (image_flag != ''):\n",
    "            values = r.json().values()\n",
    "            csv_writer.writerow(values)"
   ]
  },
  {
   "cell_type": "code",
   "execution_count": 40,
   "metadata": {
    "collapsed": true
   },
   "outputs": [],
   "source": [
    "met_df = pd.read_csv(\"data/metdata.csv\")\n",
    "met_df['primaryImage'] = met_df['primaryImage'].str.strip()"
   ]
  },
  {
   "cell_type": "code",
   "execution_count": 41,
   "metadata": {},
   "outputs": [
    {
     "data": {
      "text/plain": [
       "(3018, 49)"
      ]
     },
     "execution_count": 41,
     "metadata": {},
     "output_type": "execute_result"
    }
   ],
   "source": [
    "met_df.head()\n",
    "met_df.shape"
   ]
  },
  {
   "cell_type": "code",
   "execution_count": 42,
   "metadata": {
    "scrolled": true
   },
   "outputs": [
    {
     "data": {
      "text/html": [
       "<div>\n",
       "<style scoped>\n",
       "    .dataframe tbody tr th:only-of-type {\n",
       "        vertical-align: middle;\n",
       "    }\n",
       "\n",
       "    .dataframe tbody tr th {\n",
       "        vertical-align: top;\n",
       "    }\n",
       "\n",
       "    .dataframe thead th {\n",
       "        text-align: right;\n",
       "    }\n",
       "</style>\n",
       "<table border=\"1\" class=\"dataframe\">\n",
       "  <thead>\n",
       "    <tr style=\"text-align: right;\">\n",
       "      <th></th>\n",
       "      <th>index</th>\n",
       "      <th>country</th>\n",
       "    </tr>\n",
       "  </thead>\n",
       "  <tbody>\n",
       "    <tr>\n",
       "      <th>0</th>\n",
       "      <td>Egypt</td>\n",
       "      <td>1055</td>\n",
       "    </tr>\n",
       "    <tr>\n",
       "      <th>1</th>\n",
       "      <td>Peru</td>\n",
       "      <td>824</td>\n",
       "    </tr>\n",
       "    <tr>\n",
       "      <th>2</th>\n",
       "      <td>Mexico</td>\n",
       "      <td>465</td>\n",
       "    </tr>\n",
       "    <tr>\n",
       "      <th>3</th>\n",
       "      <td>Byzantine Egypt</td>\n",
       "      <td>380</td>\n",
       "    </tr>\n",
       "    <tr>\n",
       "      <th>4</th>\n",
       "      <td>Ecuador</td>\n",
       "      <td>79</td>\n",
       "    </tr>\n",
       "    <tr>\n",
       "      <th>5</th>\n",
       "      <td>United States</td>\n",
       "      <td>55</td>\n",
       "    </tr>\n",
       "    <tr>\n",
       "      <th>6</th>\n",
       "      <td>Costa Rica</td>\n",
       "      <td>35</td>\n",
       "    </tr>\n",
       "    <tr>\n",
       "      <th>7</th>\n",
       "      <td>Guatemala</td>\n",
       "      <td>15</td>\n",
       "    </tr>\n",
       "    <tr>\n",
       "      <th>8</th>\n",
       "      <td>Colombia or Ecuador</td>\n",
       "      <td>14</td>\n",
       "    </tr>\n",
       "    <tr>\n",
       "      <th>9</th>\n",
       "      <td>Iran</td>\n",
       "      <td>11</td>\n",
       "    </tr>\n",
       "    <tr>\n",
       "      <th>10</th>\n",
       "      <td>Colombia</td>\n",
       "      <td>11</td>\n",
       "    </tr>\n",
       "    <tr>\n",
       "      <th>11</th>\n",
       "      <td>Panama</td>\n",
       "      <td>11</td>\n",
       "    </tr>\n",
       "    <tr>\n",
       "      <th>12</th>\n",
       "      <td>Guatemala or Mexico</td>\n",
       "      <td>10</td>\n",
       "    </tr>\n",
       "    <tr>\n",
       "      <th>13</th>\n",
       "      <td>Dominican Republic</td>\n",
       "      <td>8</td>\n",
       "    </tr>\n",
       "    <tr>\n",
       "      <th>14</th>\n",
       "      <td>Nicaragua</td>\n",
       "      <td>2</td>\n",
       "    </tr>\n",
       "    <tr>\n",
       "      <th>15</th>\n",
       "      <td>Egypt and Sudan</td>\n",
       "      <td>2</td>\n",
       "    </tr>\n",
       "    <tr>\n",
       "      <th>16</th>\n",
       "      <td>Turkey</td>\n",
       "      <td>1</td>\n",
       "    </tr>\n",
       "    <tr>\n",
       "      <th>17</th>\n",
       "      <td>Mexico or Guatemala</td>\n",
       "      <td>1</td>\n",
       "    </tr>\n",
       "    <tr>\n",
       "      <th>18</th>\n",
       "      <td>Indonesia</td>\n",
       "      <td>1</td>\n",
       "    </tr>\n",
       "    <tr>\n",
       "      <th>19</th>\n",
       "      <td>Ecuador or Peru</td>\n",
       "      <td>1</td>\n",
       "    </tr>\n",
       "    <tr>\n",
       "      <th>20</th>\n",
       "      <td>El Salvador or Guatemala</td>\n",
       "      <td>1</td>\n",
       "    </tr>\n",
       "    <tr>\n",
       "      <th>21</th>\n",
       "      <td>Angola</td>\n",
       "      <td>1</td>\n",
       "    </tr>\n",
       "    <tr>\n",
       "      <th>22</th>\n",
       "      <td>Republic of the Congo or Cabinda, Angola</td>\n",
       "      <td>1</td>\n",
       "    </tr>\n",
       "    <tr>\n",
       "      <th>23</th>\n",
       "      <td>probably Western Iran</td>\n",
       "      <td>1</td>\n",
       "    </tr>\n",
       "    <tr>\n",
       "      <th>24</th>\n",
       "      <td>Cyprus</td>\n",
       "      <td>1</td>\n",
       "    </tr>\n",
       "    <tr>\n",
       "      <th>25</th>\n",
       "      <td>Bolivia or Peru</td>\n",
       "      <td>1</td>\n",
       "    </tr>\n",
       "    <tr>\n",
       "      <th>26</th>\n",
       "      <td>Syria</td>\n",
       "      <td>1</td>\n",
       "    </tr>\n",
       "    <tr>\n",
       "      <th>27</th>\n",
       "      <td>Brazil</td>\n",
       "      <td>1</td>\n",
       "    </tr>\n",
       "  </tbody>\n",
       "</table>\n",
       "</div>"
      ],
      "text/plain": [
       "                                       index  country\n",
       "0                                      Egypt     1055\n",
       "1                                       Peru      824\n",
       "2                                     Mexico      465\n",
       "3                            Byzantine Egypt      380\n",
       "4                                    Ecuador       79\n",
       "5                              United States       55\n",
       "6                                 Costa Rica       35\n",
       "7                                  Guatemala       15\n",
       "8                        Colombia or Ecuador       14\n",
       "9                                       Iran       11\n",
       "10                                  Colombia       11\n",
       "11                                    Panama       11\n",
       "12                       Guatemala or Mexico       10\n",
       "13                        Dominican Republic        8\n",
       "14                                 Nicaragua        2\n",
       "15                           Egypt and Sudan        2\n",
       "16                                    Turkey        1\n",
       "17                       Mexico or Guatemala        1\n",
       "18                                 Indonesia        1\n",
       "19                           Ecuador or Peru        1\n",
       "20                  El Salvador or Guatemala        1\n",
       "21                                    Angola        1\n",
       "22  Republic of the Congo or Cabinda, Angola        1\n",
       "23                     probably Western Iran        1\n",
       "24                                    Cyprus        1\n",
       "25                           Bolivia or Peru        1\n",
       "26                                     Syria        1\n",
       "27                                    Brazil        1"
      ]
     },
     "execution_count": 42,
     "metadata": {},
     "output_type": "execute_result"
    }
   ],
   "source": [
    "#Want to determine the country a piece of pottery was made\n",
    "#Look at the unique countries in the dataset\n",
    "met_df.country.value_counts().reset_index()"
   ]
  },
  {
   "cell_type": "code",
   "execution_count": 49,
   "metadata": {},
   "outputs": [
    {
     "name": "stdout",
     "output_type": "stream",
     "text": [
      "2967    Single Spout Bottle with Strap Handles, Peru\n",
      "dtype: object\n"
     ]
    },
    {
     "data": {
      "text/html": [
       "<img src=\"https://images.metmuseum.org/CRDImages/ao/original/66.30.18_a.jpg\" width=\"350\" height=\"350\"/>"
      ],
      "text/plain": [
       "<IPython.core.display.Image object>"
      ]
     },
     "execution_count": 49,
     "metadata": {},
     "output_type": "execute_result"
    }
   ],
   "source": [
    "#Can either simplify or remove images from dataset\n",
    "url= met_df.primaryImage.sample(n=1).values[0]\n",
    "title = met_df.title[met_df.primaryImage == url]\n",
    "country = met_df.country[met_df.primaryImage == url]\n",
    "print(title + \", \" + country)\n",
    "Image(url= url, width=350, height=350)"
   ]
  },
  {
   "cell_type": "code",
   "execution_count": 44,
   "metadata": {
    "collapsed": true
   },
   "outputs": [],
   "source": [
    "#Decide to leave countries with less than 8 images in the test set\n",
    "#Interested in which country the algo will drop them in"
   ]
  },
  {
   "cell_type": "code",
   "execution_count": 47,
   "metadata": {
    "collapsed": true
   },
   "outputs": [],
   "source": [
    "# folder to store images\n",
    "IMAGE_FOLDER = \"../image Collection/data/images\"\n",
    "# make the image folder if it doesn't exit\n",
    "\n",
    "if not os.path.exists(IMAGE_FOLDER):\n",
    "    os.makedirs(IMAGE_FOLDER)\n",
    "\n",
    "try:\n",
    "    os.remove(IMAGE_FOLDER)\n",
    "except OSError:\n",
    "    pass\n",
    "\n",
    "for country, ID, imgurl in zip(met_df['country'][:], met_df['objectID'][:], met_df['primaryImage'][:]):\n",
    "    image_filename = os.path.join(IMAGE_FOLDER, \"{}.jpg\".format(str(country) + \"_\" + str(ID)))\n",
    "    \n",
    "    img_data = requests.get(imgurl).content\n",
    "    with open(image_filename, 'wb') as handler:\n",
    "        handler.write(img_data)"
   ]
  }
 ],
 "metadata": {
  "kernelspec": {
   "display_name": "Python 2",
   "language": "python",
   "name": "python2"
  },
  "language_info": {
   "codemirror_mode": {
    "name": "ipython",
    "version": 2
   },
   "file_extension": ".py",
   "mimetype": "text/x-python",
   "name": "python",
   "nbconvert_exporter": "python",
   "pygments_lexer": "ipython2",
   "version": "2.7.12"
  }
 },
 "nbformat": 4,
 "nbformat_minor": 2
}
